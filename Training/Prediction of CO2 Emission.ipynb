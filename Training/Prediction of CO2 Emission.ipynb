{
 "cells": [
  {
   "cell_type": "code",
   "execution_count": 40,
   "id": "067a3925",
   "metadata": {},
   "outputs": [],
   "source": [
    "import pandas as pd\n",
    "import numpy as np\n",
    "from collections import Counter as c\n",
    "import seaborn as sns \n",
    "import matplotlib.pyplot as plt\n",
    "from sklearn.model_selection import train_test_split\n",
    "from sklearn.metrics import mean_squared_error,mean_absolute_error\n",
    "import pickle\n",
    "from sklearn.linear_model import LinearRegression"
   ]
  },
  {
   "cell_type": "code",
   "execution_count": 41,
   "id": "6b32d6aa",
   "metadata": {},
   "outputs": [
    {
     "data": {
      "text/html": [
       "<div>\n",
       "<style scoped>\n",
       "    .dataframe tbody tr th:only-of-type {\n",
       "        vertical-align: middle;\n",
       "    }\n",
       "\n",
       "    .dataframe tbody tr th {\n",
       "        vertical-align: top;\n",
       "    }\n",
       "\n",
       "    .dataframe thead th {\n",
       "        text-align: right;\n",
       "    }\n",
       "</style>\n",
       "<table border=\"1\" class=\"dataframe\">\n",
       "  <thead>\n",
       "    <tr style=\"text-align: right;\">\n",
       "      <th></th>\n",
       "      <th>MODELYEAR</th>\n",
       "      <th>MAKE</th>\n",
       "      <th>MODEL</th>\n",
       "      <th>VEHICLECLASS</th>\n",
       "      <th>ENGINESIZE</th>\n",
       "      <th>CYLINDERS</th>\n",
       "      <th>TRANSMISSION</th>\n",
       "      <th>FUELTYPE</th>\n",
       "      <th>FUELCONSUMPTION_CITY</th>\n",
       "      <th>FUELCONSUMPTION_HWY</th>\n",
       "      <th>FUELCONSUMPTION_COMB</th>\n",
       "      <th>FUELCONSUMPTION_COMB_MPG</th>\n",
       "      <th>CO2EMISSIONS</th>\n",
       "    </tr>\n",
       "  </thead>\n",
       "  <tbody>\n",
       "    <tr>\n",
       "      <th>0</th>\n",
       "      <td>2014</td>\n",
       "      <td>ACURA</td>\n",
       "      <td>ILX</td>\n",
       "      <td>COMPACT</td>\n",
       "      <td>2.0</td>\n",
       "      <td>4</td>\n",
       "      <td>AS5</td>\n",
       "      <td>Z</td>\n",
       "      <td>9.9</td>\n",
       "      <td>6.7</td>\n",
       "      <td>8.5</td>\n",
       "      <td>33</td>\n",
       "      <td>196</td>\n",
       "    </tr>\n",
       "    <tr>\n",
       "      <th>1</th>\n",
       "      <td>2014</td>\n",
       "      <td>ACURA</td>\n",
       "      <td>ILX</td>\n",
       "      <td>COMPACT</td>\n",
       "      <td>2.4</td>\n",
       "      <td>4</td>\n",
       "      <td>M6</td>\n",
       "      <td>Z</td>\n",
       "      <td>11.2</td>\n",
       "      <td>7.7</td>\n",
       "      <td>9.6</td>\n",
       "      <td>29</td>\n",
       "      <td>221</td>\n",
       "    </tr>\n",
       "    <tr>\n",
       "      <th>2</th>\n",
       "      <td>2014</td>\n",
       "      <td>ACURA</td>\n",
       "      <td>ILX HYBRID</td>\n",
       "      <td>COMPACT</td>\n",
       "      <td>1.5</td>\n",
       "      <td>4</td>\n",
       "      <td>AV7</td>\n",
       "      <td>Z</td>\n",
       "      <td>6.0</td>\n",
       "      <td>5.8</td>\n",
       "      <td>5.9</td>\n",
       "      <td>48</td>\n",
       "      <td>136</td>\n",
       "    </tr>\n",
       "    <tr>\n",
       "      <th>3</th>\n",
       "      <td>2014</td>\n",
       "      <td>ACURA</td>\n",
       "      <td>MDX 4WD</td>\n",
       "      <td>SUV - SMALL</td>\n",
       "      <td>3.5</td>\n",
       "      <td>6</td>\n",
       "      <td>AS6</td>\n",
       "      <td>Z</td>\n",
       "      <td>12.7</td>\n",
       "      <td>9.1</td>\n",
       "      <td>11.1</td>\n",
       "      <td>25</td>\n",
       "      <td>255</td>\n",
       "    </tr>\n",
       "    <tr>\n",
       "      <th>4</th>\n",
       "      <td>2014</td>\n",
       "      <td>ACURA</td>\n",
       "      <td>RDX AWD</td>\n",
       "      <td>SUV - SMALL</td>\n",
       "      <td>3.5</td>\n",
       "      <td>6</td>\n",
       "      <td>AS6</td>\n",
       "      <td>Z</td>\n",
       "      <td>12.1</td>\n",
       "      <td>8.7</td>\n",
       "      <td>10.6</td>\n",
       "      <td>27</td>\n",
       "      <td>244</td>\n",
       "    </tr>\n",
       "  </tbody>\n",
       "</table>\n",
       "</div>"
      ],
      "text/plain": [
       "   MODELYEAR   MAKE       MODEL VEHICLECLASS  ENGINESIZE  CYLINDERS  \\\n",
       "0       2014  ACURA         ILX      COMPACT         2.0          4   \n",
       "1       2014  ACURA         ILX      COMPACT         2.4          4   \n",
       "2       2014  ACURA  ILX HYBRID      COMPACT         1.5          4   \n",
       "3       2014  ACURA     MDX 4WD  SUV - SMALL         3.5          6   \n",
       "4       2014  ACURA     RDX AWD  SUV - SMALL         3.5          6   \n",
       "\n",
       "  TRANSMISSION FUELTYPE  FUELCONSUMPTION_CITY  FUELCONSUMPTION_HWY  \\\n",
       "0          AS5        Z                   9.9                  6.7   \n",
       "1           M6        Z                  11.2                  7.7   \n",
       "2          AV7        Z                   6.0                  5.8   \n",
       "3          AS6        Z                  12.7                  9.1   \n",
       "4          AS6        Z                  12.1                  8.7   \n",
       "\n",
       "   FUELCONSUMPTION_COMB  FUELCONSUMPTION_COMB_MPG  CO2EMISSIONS  \n",
       "0                   8.5                        33           196  \n",
       "1                   9.6                        29           221  \n",
       "2                   5.9                        48           136  \n",
       "3                  11.1                        25           255  \n",
       "4                  10.6                        27           244  "
      ]
     },
     "execution_count": 41,
     "metadata": {},
     "output_type": "execute_result"
    }
   ],
   "source": [
    "df=pd.read_csv('./co2-emission.csv')\n",
    "df.head()"
   ]
  },
  {
   "cell_type": "code",
   "execution_count": 42,
   "id": "bcd49486",
   "metadata": {},
   "outputs": [
    {
     "data": {
      "text/plain": [
       "Index(['MODELYEAR', 'MAKE', 'MODEL', 'VEHICLECLASS', 'ENGINESIZE', 'CYLINDERS',\n",
       "       'TRANSMISSION', 'FUELTYPE', 'FUELCONSUMPTION_CITY',\n",
       "       'FUELCONSUMPTION_HWY', 'FUELCONSUMPTION_COMB',\n",
       "       'FUELCONSUMPTION_COMB_MPG', 'CO2EMISSIONS'],\n",
       "      dtype='object')"
      ]
     },
     "execution_count": 42,
     "metadata": {},
     "output_type": "execute_result"
    }
   ],
   "source": [
    "df.columns"
   ]
  },
  {
   "cell_type": "code",
   "execution_count": 43,
   "id": "bf642260",
   "metadata": {},
   "outputs": [],
   "source": [
    "del df['MODEL']"
   ]
  },
  {
   "cell_type": "code",
   "execution_count": 44,
   "id": "7fc2f9d8",
   "metadata": {},
   "outputs": [],
   "source": [
    "df.columns=['Make','MODEL.1','Vehicles_class','Engine_Size','Cylinders','Transmission','Fuel_Type','Fuel_Consumption_City','Fuel_Consumption_Hwy','Fuel_Consumption_Comb(L/100km)','Fuel_Consumption_Comd(mpg)','CO2_Emissions']\n"
   ]
  },
  {
   "cell_type": "code",
   "execution_count": 45,
   "id": "dafe73aa",
   "metadata": {},
   "outputs": [
    {
     "data": {
      "text/plain": [
       "Index(['Make', 'MODEL.1', 'Vehicles_class', 'Engine_Size', 'Cylinders',\n",
       "       'Transmission', 'Fuel_Type', 'Fuel_Consumption_City',\n",
       "       'Fuel_Consumption_Hwy', 'Fuel_Consumption_Comb(L/100km)',\n",
       "       'Fuel_Consumption_Comd(mpg)', 'CO2_Emissions'],\n",
       "      dtype='object')"
      ]
     },
     "execution_count": 45,
     "metadata": {},
     "output_type": "execute_result"
    }
   ],
   "source": [
    "df.columns"
   ]
  },
  {
   "cell_type": "code",
   "execution_count": 46,
   "id": "6e564706",
   "metadata": {},
   "outputs": [
    {
     "name": "stdout",
     "output_type": "stream",
     "text": [
      "<class 'pandas.core.frame.DataFrame'>\n",
      "RangeIndex: 1067 entries, 0 to 1066\n",
      "Data columns (total 12 columns):\n",
      " #   Column                          Non-Null Count  Dtype  \n",
      "---  ------                          --------------  -----  \n",
      " 0   Make                            1067 non-null   int64  \n",
      " 1   MODEL.1                         1067 non-null   object \n",
      " 2   Vehicles_class                  1067 non-null   object \n",
      " 3   Engine_Size                     1067 non-null   float64\n",
      " 4   Cylinders                       1067 non-null   int64  \n",
      " 5   Transmission                    1067 non-null   object \n",
      " 6   Fuel_Type                       1067 non-null   object \n",
      " 7   Fuel_Consumption_City           1067 non-null   float64\n",
      " 8   Fuel_Consumption_Hwy            1067 non-null   float64\n",
      " 9   Fuel_Consumption_Comb(L/100km)  1067 non-null   float64\n",
      " 10  Fuel_Consumption_Comd(mpg)      1067 non-null   int64  \n",
      " 11  CO2_Emissions                   1067 non-null   int64  \n",
      "dtypes: float64(4), int64(4), object(4)\n",
      "memory usage: 100.2+ KB\n"
     ]
    }
   ],
   "source": [
    "df.info()"
   ]
  },
  {
   "cell_type": "code",
   "execution_count": 47,
   "id": "80a620ea",
   "metadata": {},
   "outputs": [
    {
     "data": {
      "text/html": [
       "<div>\n",
       "<style scoped>\n",
       "    .dataframe tbody tr th:only-of-type {\n",
       "        vertical-align: middle;\n",
       "    }\n",
       "\n",
       "    .dataframe tbody tr th {\n",
       "        vertical-align: top;\n",
       "    }\n",
       "\n",
       "    .dataframe thead th {\n",
       "        text-align: right;\n",
       "    }\n",
       "</style>\n",
       "<table border=\"1\" class=\"dataframe\">\n",
       "  <thead>\n",
       "    <tr style=\"text-align: right;\">\n",
       "      <th></th>\n",
       "      <th>Make</th>\n",
       "      <th>Engine_Size</th>\n",
       "      <th>Cylinders</th>\n",
       "      <th>Fuel_Consumption_City</th>\n",
       "      <th>Fuel_Consumption_Hwy</th>\n",
       "      <th>Fuel_Consumption_Comb(L/100km)</th>\n",
       "      <th>Fuel_Consumption_Comd(mpg)</th>\n",
       "      <th>CO2_Emissions</th>\n",
       "    </tr>\n",
       "  </thead>\n",
       "  <tbody>\n",
       "    <tr>\n",
       "      <th>count</th>\n",
       "      <td>1067.0</td>\n",
       "      <td>1067.000000</td>\n",
       "      <td>1067.000000</td>\n",
       "      <td>1067.000000</td>\n",
       "      <td>1067.000000</td>\n",
       "      <td>1067.000000</td>\n",
       "      <td>1067.000000</td>\n",
       "      <td>1067.000000</td>\n",
       "    </tr>\n",
       "    <tr>\n",
       "      <th>mean</th>\n",
       "      <td>2014.0</td>\n",
       "      <td>3.346298</td>\n",
       "      <td>5.794752</td>\n",
       "      <td>13.296532</td>\n",
       "      <td>9.474602</td>\n",
       "      <td>11.580881</td>\n",
       "      <td>26.441425</td>\n",
       "      <td>256.228679</td>\n",
       "    </tr>\n",
       "    <tr>\n",
       "      <th>std</th>\n",
       "      <td>0.0</td>\n",
       "      <td>1.415895</td>\n",
       "      <td>1.797447</td>\n",
       "      <td>4.101253</td>\n",
       "      <td>2.794510</td>\n",
       "      <td>3.485595</td>\n",
       "      <td>7.468702</td>\n",
       "      <td>63.372304</td>\n",
       "    </tr>\n",
       "    <tr>\n",
       "      <th>min</th>\n",
       "      <td>2014.0</td>\n",
       "      <td>1.000000</td>\n",
       "      <td>3.000000</td>\n",
       "      <td>4.600000</td>\n",
       "      <td>4.900000</td>\n",
       "      <td>4.700000</td>\n",
       "      <td>11.000000</td>\n",
       "      <td>108.000000</td>\n",
       "    </tr>\n",
       "    <tr>\n",
       "      <th>25%</th>\n",
       "      <td>2014.0</td>\n",
       "      <td>2.000000</td>\n",
       "      <td>4.000000</td>\n",
       "      <td>10.250000</td>\n",
       "      <td>7.500000</td>\n",
       "      <td>9.000000</td>\n",
       "      <td>21.000000</td>\n",
       "      <td>207.000000</td>\n",
       "    </tr>\n",
       "    <tr>\n",
       "      <th>50%</th>\n",
       "      <td>2014.0</td>\n",
       "      <td>3.400000</td>\n",
       "      <td>6.000000</td>\n",
       "      <td>12.600000</td>\n",
       "      <td>8.800000</td>\n",
       "      <td>10.900000</td>\n",
       "      <td>26.000000</td>\n",
       "      <td>251.000000</td>\n",
       "    </tr>\n",
       "    <tr>\n",
       "      <th>75%</th>\n",
       "      <td>2014.0</td>\n",
       "      <td>4.300000</td>\n",
       "      <td>8.000000</td>\n",
       "      <td>15.550000</td>\n",
       "      <td>10.850000</td>\n",
       "      <td>13.350000</td>\n",
       "      <td>31.000000</td>\n",
       "      <td>294.000000</td>\n",
       "    </tr>\n",
       "    <tr>\n",
       "      <th>max</th>\n",
       "      <td>2014.0</td>\n",
       "      <td>8.400000</td>\n",
       "      <td>12.000000</td>\n",
       "      <td>30.200000</td>\n",
       "      <td>20.500000</td>\n",
       "      <td>25.800000</td>\n",
       "      <td>60.000000</td>\n",
       "      <td>488.000000</td>\n",
       "    </tr>\n",
       "  </tbody>\n",
       "</table>\n",
       "</div>"
      ],
      "text/plain": [
       "         Make  Engine_Size    Cylinders  Fuel_Consumption_City  \\\n",
       "count  1067.0  1067.000000  1067.000000            1067.000000   \n",
       "mean   2014.0     3.346298     5.794752              13.296532   \n",
       "std       0.0     1.415895     1.797447               4.101253   \n",
       "min    2014.0     1.000000     3.000000               4.600000   \n",
       "25%    2014.0     2.000000     4.000000              10.250000   \n",
       "50%    2014.0     3.400000     6.000000              12.600000   \n",
       "75%    2014.0     4.300000     8.000000              15.550000   \n",
       "max    2014.0     8.400000    12.000000              30.200000   \n",
       "\n",
       "       Fuel_Consumption_Hwy  Fuel_Consumption_Comb(L/100km)  \\\n",
       "count           1067.000000                     1067.000000   \n",
       "mean               9.474602                       11.580881   \n",
       "std                2.794510                        3.485595   \n",
       "min                4.900000                        4.700000   \n",
       "25%                7.500000                        9.000000   \n",
       "50%                8.800000                       10.900000   \n",
       "75%               10.850000                       13.350000   \n",
       "max               20.500000                       25.800000   \n",
       "\n",
       "       Fuel_Consumption_Comd(mpg)  CO2_Emissions  \n",
       "count                 1067.000000    1067.000000  \n",
       "mean                    26.441425     256.228679  \n",
       "std                      7.468702      63.372304  \n",
       "min                     11.000000     108.000000  \n",
       "25%                     21.000000     207.000000  \n",
       "50%                     26.000000     251.000000  \n",
       "75%                     31.000000     294.000000  \n",
       "max                     60.000000     488.000000  "
      ]
     },
     "execution_count": 47,
     "metadata": {},
     "output_type": "execute_result"
    }
   ],
   "source": [
    "df.describe()"
   ]
  },
  {
   "cell_type": "code",
   "execution_count": 48,
   "id": "a71057a1",
   "metadata": {},
   "outputs": [
    {
     "data": {
      "text/plain": [
       "(array([dtype('int64'), dtype('float64'), dtype('O')], dtype=object),\n",
       " array([4, 4, 4], dtype=int64))"
      ]
     },
     "execution_count": 48,
     "metadata": {},
     "output_type": "execute_result"
    }
   ],
   "source": [
    "np.unique(df.dtypes,return_counts=True)"
   ]
  },
  {
   "cell_type": "code",
   "execution_count": 49,
   "id": "43a853fc",
   "metadata": {},
   "outputs": [],
   "source": [
    "cat=df.dtypes[df.dtypes=='O'].index.values"
   ]
  },
  {
   "cell_type": "code",
   "execution_count": 50,
   "id": "d438be30",
   "metadata": {},
   "outputs": [
    {
     "data": {
      "text/plain": [
       "array(['MODEL.1', 'Vehicles_class', 'Transmission', 'Fuel_Type'],\n",
       "      dtype=object)"
      ]
     },
     "execution_count": 50,
     "metadata": {},
     "output_type": "execute_result"
    }
   ],
   "source": [
    "cat"
   ]
  },
  {
   "cell_type": "code",
   "execution_count": 51,
   "id": "8f976333",
   "metadata": {},
   "outputs": [
    {
     "name": "stdout",
     "output_type": "stream",
     "text": [
      "Column :  MODEL.1\n",
      "Count of classes :  39\n",
      "Counter({'FORD': 90, 'CHEVROLET': 86, 'BMW': 64, 'MERCEDES-BENZ': 59, 'AUDI': 49, 'GMC': 49, 'TOYOTA': 49, 'PORSCHE': 44, 'VOLKSWAGEN': 42, 'DODGE': 39, 'MINI': 36, 'KIA': 33, 'NISSAN': 33, 'CADILLAC': 32, 'JEEP': 31, 'MAZDA': 27, 'HYUNDAI': 24, 'SUBARU': 23, 'JAGUAR': 22, 'LEXUS': 22, 'HONDA': 21, 'INFINITI': 21, 'CHRYSLER': 19, 'LAND ROVER': 19, 'BUICK': 16, 'MITSUBISHI': 16, 'RAM': 13, 'ACURA': 12, 'LINCOLN': 11, 'VOLVO': 11, 'FIAT': 10, 'SCION': 9, 'BENTLEY': 8, 'ASTON MARTIN': 7, 'ROLLS-ROYCE': 7, 'MASERATI': 6, 'LAMBORGHINI': 3, 'SMART': 2, 'SRT': 2})\n",
      "************************************************************************************************************************\n",
      "Column :  Vehicles_class\n",
      "Count of classes :  16\n",
      "Counter({'MID-SIZE': 178, 'COMPACT': 172, 'SUV - SMALL': 154, 'SUV - STANDARD': 110, 'FULL-SIZE': 86, 'TWO-SEATER': 71, 'SUBCOMPACT': 65, 'PICKUP TRUCK - STANDARD': 62, 'MINICOMPACT': 47, 'STATION WAGON - SMALL': 36, 'VAN - PASSENGER': 25, 'VAN - CARGO': 22, 'MINIVAN': 14, 'PICKUP TRUCK - SMALL': 12, 'SPECIAL PURPOSE VEHICLE': 7, 'STATION WAGON - MID-SIZE': 6})\n",
      "************************************************************************************************************************\n",
      "Column :  Transmission\n",
      "Count of classes :  22\n",
      "Counter({'A6': 222, 'AS6': 189, 'M6': 141, 'A8': 87, 'AS8': 80, 'AS7': 76, 'M5': 48, 'AV': 46, 'A4': 45, 'AM7': 34, 'A5': 30, 'A7': 12, 'AV6': 11, 'AS5': 10, 'M7': 9, 'A9': 8, 'AM6': 6, 'AV7': 5, 'AV8': 3, 'AS9': 2, 'AM5': 2, 'AS4': 1})\n",
      "************************************************************************************************************************\n",
      "Column :  Fuel_Type\n",
      "Count of classes :  4\n",
      "Counter({'X': 514, 'Z': 434, 'E': 92, 'D': 27})\n",
      "************************************************************************************************************************\n"
     ]
    }
   ],
   "source": [
    "for i in cat:\n",
    "    print(\"Column : \",i)\n",
    "    print(\"Count of classes : \",df[i].nunique())\n",
    "    print(c(df[i]))\n",
    "    print(\"*\"*120)"
   ]
  },
  {
   "cell_type": "code",
   "execution_count": 52,
   "id": "f4b7be1e",
   "metadata": {},
   "outputs": [
    {
     "data": {
      "text/plain": [
       "Counter({'Automatic with Select Shift': 11,\n",
       "         'Manual': 189,\n",
       "         'AV7': 5,\n",
       "         'AS6': 189,\n",
       "         'A6': 222,\n",
       "         'AM7': 34,\n",
       "         'AV8': 3,\n",
       "         'AS8': 80,\n",
       "         'A7': 12,\n",
       "         'A8': 87,\n",
       "         'M7': 9,\n",
       "         'Automatic': 75,\n",
       "         'Continuously Variable': 46,\n",
       "         'AM6': 6,\n",
       "         'AS7': 76,\n",
       "         'A9': 8,\n",
       "         'AS9': 2,\n",
       "         'AV6': 11,\n",
       "         'AM5': 2})"
      ]
     },
     "execution_count": 52,
     "metadata": {},
     "output_type": "execute_result"
    }
   ],
   "source": [
    "df[\"Transmission\"]=np.where(df[\"Transmission\"].isin([\"A4\",\"A5\",\"A3\"]),\"Automatic\",df[\"Transmission\"])\n",
    "df[\"Transmission\"]=np.where(df[\"Transmission\"].isin([\"M5\",\"M6\"]),\"Manual\",df[\"Transmission\"])\n",
    "df[\"Transmission\"]=np.where(df[\"Transmission\"].isin([\"AS4\",\"AS5\"]),\"Automatic with Select Shift\",df[\"Transmission\"])\n",
    "df[\"Transmission\"]=np.where(df[\"Transmission\"].isin([\"AV\"]),\"Continuously Variable\",df[\"Transmission\"])\n",
    "c(df[\"Transmission\"])"
   ]
  },
  {
   "cell_type": "code",
   "execution_count": 53,
   "id": "19b3563a",
   "metadata": {},
   "outputs": [
    {
     "data": {
      "text/plain": [
       "Counter({'Premium Gasoline': 434,\n",
       "         'Diesel': 27,\n",
       "         'Regular Gasoline': 514,\n",
       "         'Ethanol(E85)': 92})"
      ]
     },
     "execution_count": 53,
     "metadata": {},
     "output_type": "execute_result"
    }
   ],
   "source": [
    "df[\"Fuel_Type\"]=np.where(df[\"Fuel_Type\"]==\"Z\",\"Premium Gasoline\",df[\"Fuel_Type\"])\n",
    "df[\"Fuel_Type\"]=np.where(df[\"Fuel_Type\"]=='X',\"Regular Gasoline\",df[\"Fuel_Type\"])\n",
    "df[\"Fuel_Type\"]=np.where(df[\"Fuel_Type\"]==\"D\",\"Diesel\",df[\"Fuel_Type\"])\n",
    "df[\"Fuel_Type\"]=np.where(df[\"Fuel_Type\"]==\"E\",\"Ethanol(E85)\",df[\"Fuel_Type\"])\n",
    "df[\"Fuel_Type\"]=np.where(df[\"Fuel_Type\"]==\"N\",\"Natural Gas\",df[\"Fuel_Type\"])\n",
    "c(df[\"Fuel_Type\"])"
   ]
  },
  {
   "cell_type": "code",
   "execution_count": 54,
   "id": "62f0d2c7",
   "metadata": {},
   "outputs": [
    {
     "data": {
      "text/plain": [
       "array(['Make', 'Engine_Size', 'Cylinders', 'Fuel_Consumption_City',\n",
       "       'Fuel_Consumption_Hwy', 'Fuel_Consumption_Comb(L/100km)',\n",
       "       'Fuel_Consumption_Comd(mpg)', 'CO2_Emissions'], dtype=object)"
      ]
     },
     "execution_count": 54,
     "metadata": {},
     "output_type": "execute_result"
    }
   ],
   "source": [
    "df.dtypes[df.dtypes!='O'].index.values"
   ]
  },
  {
   "cell_type": "code",
   "execution_count": 55,
   "id": "17b75f81",
   "metadata": {},
   "outputs": [
    {
     "data": {
      "text/plain": [
       "Make                              0\n",
       "MODEL.1                           0\n",
       "Vehicles_class                    0\n",
       "Engine_Size                       0\n",
       "Cylinders                         0\n",
       "Transmission                      0\n",
       "Fuel_Type                         0\n",
       "Fuel_Consumption_City             0\n",
       "Fuel_Consumption_Hwy              0\n",
       "Fuel_Consumption_Comb(L/100km)    0\n",
       "Fuel_Consumption_Comd(mpg)        0\n",
       "CO2_Emissions                     0\n",
       "dtype: int64"
      ]
     },
     "execution_count": 55,
     "metadata": {},
     "output_type": "execute_result"
    }
   ],
   "source": [
    "df.isnull().sum()"
   ]
  },
  {
   "cell_type": "code",
   "execution_count": 56,
   "id": "8998781a",
   "metadata": {},
   "outputs": [
    {
     "name": "stdout",
     "output_type": "stream",
     "text": [
      "LABEL ENCODING OF :  MODEL.1\n",
      "Counter({'FORD': 90, 'CHEVROLET': 86, 'BMW': 64, 'MERCEDES-BENZ': 59, 'AUDI': 49, 'GMC': 49, 'TOYOTA': 49, 'PORSCHE': 44, 'VOLKSWAGEN': 42, 'DODGE': 39, 'MINI': 36, 'KIA': 33, 'NISSAN': 33, 'CADILLAC': 32, 'JEEP': 31, 'MAZDA': 27, 'HYUNDAI': 24, 'SUBARU': 23, 'JAGUAR': 22, 'LEXUS': 22, 'HONDA': 21, 'INFINITI': 21, 'CHRYSLER': 19, 'LAND ROVER': 19, 'BUICK': 16, 'MITSUBISHI': 16, 'RAM': 13, 'ACURA': 12, 'LINCOLN': 11, 'VOLVO': 11, 'FIAT': 10, 'SCION': 9, 'BENTLEY': 8, 'ASTON MARTIN': 7, 'ROLLS-ROYCE': 7, 'MASERATI': 6, 'LAMBORGHINI': 3, 'SMART': 2, 'SRT': 2})\n",
      "Counter({11: 90, 7: 86, 4: 64, 25: 59, 2: 49, 12: 49, 36: 49, 29: 44, 37: 42, 9: 39, 26: 36, 18: 33, 28: 33, 6: 32, 17: 31, 24: 27, 14: 24, 35: 23, 16: 22, 21: 22, 13: 21, 15: 21, 8: 19, 20: 19, 5: 16, 27: 16, 30: 13, 0: 12, 22: 11, 38: 11, 10: 10, 32: 9, 3: 8, 1: 7, 31: 7, 23: 6, 19: 3, 33: 2, 34: 2})\n",
      "****************************************************************************************************\n",
      "LABEL ENCODING OF :  Vehicles_class\n",
      "Counter({'MID-SIZE': 178, 'COMPACT': 172, 'SUV - SMALL': 154, 'SUV - STANDARD': 110, 'FULL-SIZE': 86, 'TWO-SEATER': 71, 'SUBCOMPACT': 65, 'PICKUP TRUCK - STANDARD': 62, 'MINICOMPACT': 47, 'STATION WAGON - SMALL': 36, 'VAN - PASSENGER': 25, 'VAN - CARGO': 22, 'MINIVAN': 14, 'PICKUP TRUCK - SMALL': 12, 'SPECIAL PURPOSE VEHICLE': 7, 'STATION WAGON - MID-SIZE': 6})\n",
      "Counter({2: 178, 0: 172, 11: 154, 12: 110, 1: 86, 13: 71, 10: 65, 6: 62, 3: 47, 9: 36, 15: 25, 14: 22, 4: 14, 5: 12, 7: 7, 8: 6})\n",
      "****************************************************************************************************\n",
      "LABEL ENCODING OF :  Transmission\n",
      "Counter({'A6': 222, 'Manual': 189, 'AS6': 189, 'A8': 87, 'AS8': 80, 'AS7': 76, 'Automatic': 75, 'Continuously Variable': 46, 'AM7': 34, 'A7': 12, 'Automatic with Select Shift': 11, 'AV6': 11, 'M7': 9, 'A9': 8, 'AM6': 6, 'AV7': 5, 'AV8': 3, 'AS9': 2, 'AM5': 2})\n",
      "Counter({0: 222, 18: 189, 7: 189, 2: 87, 9: 80, 8: 76, 14: 75, 16: 46, 6: 34, 1: 12, 15: 11, 11: 11, 17: 9, 3: 8, 5: 6, 12: 5, 13: 3, 10: 2, 4: 2})\n",
      "****************************************************************************************************\n",
      "LABEL ENCODING OF :  Fuel_Type\n",
      "Counter({'Regular Gasoline': 514, 'Premium Gasoline': 434, 'Ethanol(E85)': 92, 'Diesel': 27})\n",
      "Counter({3: 514, 2: 434, 1: 92, 0: 27})\n",
      "****************************************************************************************************\n"
     ]
    }
   ],
   "source": [
    "from sklearn.preprocessing import LabelEncoder\n",
    "x='*'\n",
    "for i in cat:\n",
    "    print(\"LABEL ENCODING OF : \",i)\n",
    "    LE=LabelEncoder()\n",
    "    print(c(df[i]))\n",
    "    df[i]=LE.fit_transform(df[i])\n",
    "    print(c(df[i]))\n",
    "    print(x*100)"
   ]
  },
  {
   "cell_type": "code",
   "execution_count": 57,
   "id": "fbcc41cc",
   "metadata": {},
   "outputs": [],
   "source": [
    "MCO2=df.groupby(['Make'])['CO2_Emissions'].mean().sort_values()[:20].reset_index()"
   ]
  },
  {
   "cell_type": "code",
   "execution_count": 58,
   "id": "9aaf03db",
   "metadata": {
    "scrolled": true
   },
   "outputs": [
    {
     "data": {
      "text/plain": [
       "<AxesSubplot:xlabel='Make', ylabel='CO2_Emissions'>"
      ]
     },
     "execution_count": 58,
     "metadata": {},
     "output_type": "execute_result"
    },
    {
     "data": {
      "image/png": "[encoded data removed]",
      "text/plain": [
       "<Figure size 1800x432 with 1 Axes>"
      ]
     },
     "metadata": {},
     "output_type": "display_data"
    }
   ],
   "source": [
    "plt.figure(figsize=(25,6))\n",
    "sns.barplot(x=\"Make\",y=\"CO2_Emissions\",data=MCO2)"
   ]
  },
  {
   "cell_type": "code",
   "execution_count": 59,
   "id": "d301de69",
   "metadata": {},
   "outputs": [
    {
     "data": {
      "text/plain": [
       "<Figure size 1440x432 with 0 Axes>"
      ]
     },
     "execution_count": 59,
     "metadata": {},
     "output_type": "execute_result"
    },
    {
     "data": {
      "text/plain": [
       "<Figure size 1440x432 with 0 Axes>"
      ]
     },
     "metadata": {},
     "output_type": "display_data"
    }
   ],
   "source": [
    "VC=df.groupby(['Vehicles_class'])['CO2_Emissions'].mean().sort_values(ascending=False)[:20].reset_index()\n",
    "plt.figure(figsize=(20,6))"
   ]
  },
  {
   "cell_type": "code",
   "execution_count": 60,
   "id": "997709cd",
   "metadata": {},
   "outputs": [
    {
     "data": {
      "text/plain": [
       "<AxesSubplot:xlabel='Vehicles_class', ylabel='CO2_Emissions'>"
      ]
     },
     "execution_count": 60,
     "metadata": {},
     "output_type": "execute_result"
    },
    {
     "data": {
      "image/png": "[encoded data removed]",
      "text/plain": [
       "<Figure size 1080x360 with 1 Axes>"
      ]
     },
     "metadata": {},
     "output_type": "display_data"
    }
   ],
   "source": [
    "sns.barplot(x='Vehicles_class',y='CO2_Emissions',data=VC)"
   ]
  },
  {
   "cell_type": "code",
   "execution_count": 61,
   "id": "47151df9",
   "metadata": {},
   "outputs": [
    {
     "data": {
      "image/png": "[encoded data removed]",
      "text/plain": [
       "<Figure size 1152x1152 with 2 Axes>"
      ]
     },
     "metadata": {},
     "output_type": "display_data"
    }
   ],
   "source": [
    "corr=df.corr()\n",
    "plt.subplots(figsize=(16,16))\n",
    "sns.heatmap(corr,annot=True,square=True)\n",
    "plt.title(\"Correlation matrix of numerical features\")\n",
    "plt.tight_layout()\n",
    "plt.show()"
   ]
  },
  {
   "cell_type": "code",
   "execution_count": 62,
   "id": "1abd2c20",
   "metadata": {},
   "outputs": [
    {
     "data": {
      "text/plain": [
       "<AxesSubplot:>"
      ]
     },
     "execution_count": 62,
     "metadata": {},
     "output_type": "execute_result"
    },
    {
     "data": {
      "image/png": "[encoded data removed]",
      "text/plain": [
       "<Figure size 1152x360 with 1 Axes>"
      ]
     },
     "metadata": {},
     "output_type": "display_data"
    }
   ],
   "source": [
    "plt.figure(figsize=(16,5))\n",
    "corr[\"CO2_Emissions\"].sort_values(ascending=True)[:-1].plot(kind=\"barh\")"
   ]
  },
  {
   "cell_type": "code",
   "execution_count": 63,
   "id": "ad159943",
   "metadata": {},
   "outputs": [
    {
     "name": "stdout",
     "output_type": "stream",
     "text": [
      "(853, 8)\n",
      "(214, 8)\n",
      "      Vehicles_class  Engine_Size  Cylinders  Transmission  Fuel_Type  \\\n",
      "0                  0          2.0          4            15          2   \n",
      "1                  0          2.4          4            18          2   \n",
      "2                  0          1.5          4            12          2   \n",
      "3                 11          3.5          6             7          2   \n",
      "4                 11          3.5          6             7          2   \n",
      "...              ...          ...        ...           ...        ...   \n",
      "1062              11          3.0          6             7          3   \n",
      "1063              11          3.2          6             7          3   \n",
      "1064              11          3.0          6             7          3   \n",
      "1065              11          3.2          6             7          3   \n",
      "1066              12          3.2          6             7          3   \n",
      "\n",
      "      Fuel_Consumption_City  Fuel_Consumption_Hwy  Fuel_Consumption_Comd(mpg)  \n",
      "0                       9.9                   6.7                          33  \n",
      "1                      11.2                   7.7                          29  \n",
      "2                       6.0                   5.8                          48  \n",
      "3                      12.7                   9.1                          25  \n",
      "4                      12.1                   8.7                          27  \n",
      "...                     ...                   ...                         ...  \n",
      "1062                   13.4                   9.8                          24  \n",
      "1063                   13.2                   9.5                          25  \n",
      "1064                   13.4                   9.8                          24  \n",
      "1065                   12.9                   9.3                          25  \n",
      "1066                   14.9                  10.2                          22  \n",
      "\n",
      "[1067 rows x 8 columns]\n"
     ]
    },
    {
     "data": {
      "text/html": [
       "<div>\n",
       "<style scoped>\n",
       "    .dataframe tbody tr th:only-of-type {\n",
       "        vertical-align: middle;\n",
       "    }\n",
       "\n",
       "    .dataframe tbody tr th {\n",
       "        vertical-align: top;\n",
       "    }\n",
       "\n",
       "    .dataframe thead th {\n",
       "        text-align: right;\n",
       "    }\n",
       "</style>\n",
       "<table border=\"1\" class=\"dataframe\">\n",
       "  <thead>\n",
       "    <tr style=\"text-align: right;\">\n",
       "      <th></th>\n",
       "      <th>Vehicles_class</th>\n",
       "      <th>Engine_Size</th>\n",
       "      <th>Cylinders</th>\n",
       "      <th>Transmission</th>\n",
       "      <th>Fuel_Type</th>\n",
       "      <th>Fuel_Consumption_City</th>\n",
       "      <th>Fuel_Consumption_Hwy</th>\n",
       "      <th>Fuel_Consumption_Comd(mpg)</th>\n",
       "    </tr>\n",
       "  </thead>\n",
       "  <tbody>\n",
       "    <tr>\n",
       "      <th>1062</th>\n",
       "      <td>11</td>\n",
       "      <td>3.0</td>\n",
       "      <td>6</td>\n",
       "      <td>7</td>\n",
       "      <td>3</td>\n",
       "      <td>13.4</td>\n",
       "      <td>9.8</td>\n",
       "      <td>24</td>\n",
       "    </tr>\n",
       "    <tr>\n",
       "      <th>1063</th>\n",
       "      <td>11</td>\n",
       "      <td>3.2</td>\n",
       "      <td>6</td>\n",
       "      <td>7</td>\n",
       "      <td>3</td>\n",
       "      <td>13.2</td>\n",
       "      <td>9.5</td>\n",
       "      <td>25</td>\n",
       "    </tr>\n",
       "    <tr>\n",
       "      <th>1064</th>\n",
       "      <td>11</td>\n",
       "      <td>3.0</td>\n",
       "      <td>6</td>\n",
       "      <td>7</td>\n",
       "      <td>3</td>\n",
       "      <td>13.4</td>\n",
       "      <td>9.8</td>\n",
       "      <td>24</td>\n",
       "    </tr>\n",
       "    <tr>\n",
       "      <th>1065</th>\n",
       "      <td>11</td>\n",
       "      <td>3.2</td>\n",
       "      <td>6</td>\n",
       "      <td>7</td>\n",
       "      <td>3</td>\n",
       "      <td>12.9</td>\n",
       "      <td>9.3</td>\n",
       "      <td>25</td>\n",
       "    </tr>\n",
       "    <tr>\n",
       "      <th>1066</th>\n",
       "      <td>12</td>\n",
       "      <td>3.2</td>\n",
       "      <td>6</td>\n",
       "      <td>7</td>\n",
       "      <td>3</td>\n",
       "      <td>14.9</td>\n",
       "      <td>10.2</td>\n",
       "      <td>22</td>\n",
       "    </tr>\n",
       "  </tbody>\n",
       "</table>\n",
       "</div>"
      ],
      "text/plain": [
       "      Vehicles_class  Engine_Size  Cylinders  Transmission  Fuel_Type  \\\n",
       "1062              11          3.0          6             7          3   \n",
       "1063              11          3.2          6             7          3   \n",
       "1064              11          3.0          6             7          3   \n",
       "1065              11          3.2          6             7          3   \n",
       "1066              12          3.2          6             7          3   \n",
       "\n",
       "      Fuel_Consumption_City  Fuel_Consumption_Hwy  Fuel_Consumption_Comd(mpg)  \n",
       "1062                   13.4                   9.8                          24  \n",
       "1063                   13.2                   9.5                          25  \n",
       "1064                   13.4                   9.8                          24  \n",
       "1065                   12.9                   9.3                          25  \n",
       "1066                   14.9                  10.2                          22  "
      ]
     },
     "execution_count": 63,
     "metadata": {},
     "output_type": "execute_result"
    }
   ],
   "source": [
    "x=df.drop(['CO2_Emissions','Fuel_Consumption_Comb(L/100km)','MODEL.1','Make'],axis=1)\n",
    "x=pd.DataFrame(x)\n",
    "y=df['CO2_Emissions']\n",
    "y=pd.DataFrame(y)\n",
    "x_train,x_test,y_train,y_test=train_test_split(x,y,test_size=0.2,random_state=2)\n",
    "print(x_train.shape)\n",
    "print(x_test.shape)\n",
    "print(x)\n",
    "x.tail()"
   ]
  },
  {
   "cell_type": "code",
   "execution_count": 64,
   "id": "95b0c80d",
   "metadata": {},
   "outputs": [
    {
     "name": "stdout",
     "output_type": "stream",
     "text": [
      "     Vehicles_class  Engine_Size  Cylinders  Transmission  Fuel_Type  \\\n",
      "645              12          3.0          6             9          1   \n",
      "939              13          1.0          3             4          2   \n",
      "70               10          4.0          8             9          2   \n",
      "200               2          1.8          4            18          3   \n",
      "470              12          5.3          8             0          1   \n",
      "..              ...          ...        ...           ...        ...   \n",
      "360              11          2.0          4             7          3   \n",
      "466              11          2.4          4             0          3   \n",
      "299               2          5.7          8            14          3   \n",
      "493              11          2.4          4            14          3   \n",
      "527               2          3.7          6             8          2   \n",
      "\n",
      "     Fuel_Consumption_City  Fuel_Consumption_Hwy  Fuel_Consumption_Comd(mpg)  \n",
      "645                   19.4                  14.9                          16  \n",
      "939                    6.9                   5.7                          44  \n",
      "70                    16.8                  10.3                          20  \n",
      "200                    9.5                   6.5                          34  \n",
      "470                   21.5                  14.6                          15  \n",
      "..                     ...                   ...                         ...  \n",
      "360                   11.2                   8.5                          28  \n",
      "466                   11.5                   8.2                          28  \n",
      "299                   15.8                   9.2                          22  \n",
      "493                   10.6                   7.9                          30  \n",
      "527                   12.6                   8.7                          26  \n",
      "\n",
      "[853 rows x 8 columns]\n"
     ]
    }
   ],
   "source": [
    "print(x_train)"
   ]
  },
  {
   "cell_type": "code",
   "execution_count": 65,
   "id": "81cd7318",
   "metadata": {},
   "outputs": [
    {
     "data": {
      "text/html": [
       "<div>\n",
       "<style scoped>\n",
       "    .dataframe tbody tr th:only-of-type {\n",
       "        vertical-align: middle;\n",
       "    }\n",
       "\n",
       "    .dataframe tbody tr th {\n",
       "        vertical-align: top;\n",
       "    }\n",
       "\n",
       "    .dataframe thead th {\n",
       "        text-align: right;\n",
       "    }\n",
       "</style>\n",
       "<table border=\"1\" class=\"dataframe\">\n",
       "  <thead>\n",
       "    <tr style=\"text-align: right;\">\n",
       "      <th></th>\n",
       "      <th>Vehicles_class</th>\n",
       "      <th>Engine_Size</th>\n",
       "      <th>Cylinders</th>\n",
       "      <th>Transmission</th>\n",
       "      <th>Fuel_Type</th>\n",
       "      <th>Fuel_Consumption_City</th>\n",
       "      <th>Fuel_Consumption_Hwy</th>\n",
       "      <th>Fuel_Consumption_Comd(mpg)</th>\n",
       "    </tr>\n",
       "  </thead>\n",
       "  <tbody>\n",
       "    <tr>\n",
       "      <th>0</th>\n",
       "      <td>0</td>\n",
       "      <td>2.0</td>\n",
       "      <td>4</td>\n",
       "      <td>15</td>\n",
       "      <td>2</td>\n",
       "      <td>9.9</td>\n",
       "      <td>6.7</td>\n",
       "      <td>33</td>\n",
       "    </tr>\n",
       "    <tr>\n",
       "      <th>1</th>\n",
       "      <td>0</td>\n",
       "      <td>2.4</td>\n",
       "      <td>4</td>\n",
       "      <td>18</td>\n",
       "      <td>2</td>\n",
       "      <td>11.2</td>\n",
       "      <td>7.7</td>\n",
       "      <td>29</td>\n",
       "    </tr>\n",
       "    <tr>\n",
       "      <th>2</th>\n",
       "      <td>0</td>\n",
       "      <td>1.5</td>\n",
       "      <td>4</td>\n",
       "      <td>12</td>\n",
       "      <td>2</td>\n",
       "      <td>6.0</td>\n",
       "      <td>5.8</td>\n",
       "      <td>48</td>\n",
       "    </tr>\n",
       "    <tr>\n",
       "      <th>3</th>\n",
       "      <td>11</td>\n",
       "      <td>3.5</td>\n",
       "      <td>6</td>\n",
       "      <td>7</td>\n",
       "      <td>2</td>\n",
       "      <td>12.7</td>\n",
       "      <td>9.1</td>\n",
       "      <td>25</td>\n",
       "    </tr>\n",
       "    <tr>\n",
       "      <th>4</th>\n",
       "      <td>11</td>\n",
       "      <td>3.5</td>\n",
       "      <td>6</td>\n",
       "      <td>7</td>\n",
       "      <td>2</td>\n",
       "      <td>12.1</td>\n",
       "      <td>8.7</td>\n",
       "      <td>27</td>\n",
       "    </tr>\n",
       "    <tr>\n",
       "      <th>...</th>\n",
       "      <td>...</td>\n",
       "      <td>...</td>\n",
       "      <td>...</td>\n",
       "      <td>...</td>\n",
       "      <td>...</td>\n",
       "      <td>...</td>\n",
       "      <td>...</td>\n",
       "      <td>...</td>\n",
       "    </tr>\n",
       "    <tr>\n",
       "      <th>1062</th>\n",
       "      <td>11</td>\n",
       "      <td>3.0</td>\n",
       "      <td>6</td>\n",
       "      <td>7</td>\n",
       "      <td>3</td>\n",
       "      <td>13.4</td>\n",
       "      <td>9.8</td>\n",
       "      <td>24</td>\n",
       "    </tr>\n",
       "    <tr>\n",
       "      <th>1063</th>\n",
       "      <td>11</td>\n",
       "      <td>3.2</td>\n",
       "      <td>6</td>\n",
       "      <td>7</td>\n",
       "      <td>3</td>\n",
       "      <td>13.2</td>\n",
       "      <td>9.5</td>\n",
       "      <td>25</td>\n",
       "    </tr>\n",
       "    <tr>\n",
       "      <th>1064</th>\n",
       "      <td>11</td>\n",
       "      <td>3.0</td>\n",
       "      <td>6</td>\n",
       "      <td>7</td>\n",
       "      <td>3</td>\n",
       "      <td>13.4</td>\n",
       "      <td>9.8</td>\n",
       "      <td>24</td>\n",
       "    </tr>\n",
       "    <tr>\n",
       "      <th>1065</th>\n",
       "      <td>11</td>\n",
       "      <td>3.2</td>\n",
       "      <td>6</td>\n",
       "      <td>7</td>\n",
       "      <td>3</td>\n",
       "      <td>12.9</td>\n",
       "      <td>9.3</td>\n",
       "      <td>25</td>\n",
       "    </tr>\n",
       "    <tr>\n",
       "      <th>1066</th>\n",
       "      <td>12</td>\n",
       "      <td>3.2</td>\n",
       "      <td>6</td>\n",
       "      <td>7</td>\n",
       "      <td>3</td>\n",
       "      <td>14.9</td>\n",
       "      <td>10.2</td>\n",
       "      <td>22</td>\n",
       "    </tr>\n",
       "  </tbody>\n",
       "</table>\n",
       "<p>1067 rows × 8 columns</p>\n",
       "</div>"
      ],
      "text/plain": [
       "      Vehicles_class  Engine_Size  Cylinders  Transmission  Fuel_Type  \\\n",
       "0                  0          2.0          4            15          2   \n",
       "1                  0          2.4          4            18          2   \n",
       "2                  0          1.5          4            12          2   \n",
       "3                 11          3.5          6             7          2   \n",
       "4                 11          3.5          6             7          2   \n",
       "...              ...          ...        ...           ...        ...   \n",
       "1062              11          3.0          6             7          3   \n",
       "1063              11          3.2          6             7          3   \n",
       "1064              11          3.0          6             7          3   \n",
       "1065              11          3.2          6             7          3   \n",
       "1066              12          3.2          6             7          3   \n",
       "\n",
       "      Fuel_Consumption_City  Fuel_Consumption_Hwy  Fuel_Consumption_Comd(mpg)  \n",
       "0                       9.9                   6.7                          33  \n",
       "1                      11.2                   7.7                          29  \n",
       "2                       6.0                   5.8                          48  \n",
       "3                      12.7                   9.1                          25  \n",
       "4                      12.1                   8.7                          27  \n",
       "...                     ...                   ...                         ...  \n",
       "1062                   13.4                   9.8                          24  \n",
       "1063                   13.2                   9.5                          25  \n",
       "1064                   13.4                   9.8                          24  \n",
       "1065                   12.9                   9.3                          25  \n",
       "1066                   14.9                  10.2                          22  \n",
       "\n",
       "[1067 rows x 8 columns]"
      ]
     },
     "execution_count": 65,
     "metadata": {},
     "output_type": "execute_result"
    }
   ],
   "source": [
    "x"
   ]
  },
  {
   "cell_type": "code",
   "execution_count": 66,
   "id": "425cc4e1",
   "metadata": {},
   "outputs": [],
   "source": [
    "lr=LinearRegression()\n",
    "lr=lr.fit(x_train,y_train)"
   ]
  },
  {
   "cell_type": "code",
   "execution_count": 67,
   "id": "41011e81",
   "metadata": {},
   "outputs": [
    {
     "data": {
      "text/html": [
       "<div>\n",
       "<style scoped>\n",
       "    .dataframe tbody tr th:only-of-type {\n",
       "        vertical-align: middle;\n",
       "    }\n",
       "\n",
       "    .dataframe tbody tr th {\n",
       "        vertical-align: top;\n",
       "    }\n",
       "\n",
       "    .dataframe thead th {\n",
       "        text-align: right;\n",
       "    }\n",
       "</style>\n",
       "<table border=\"1\" class=\"dataframe\">\n",
       "  <thead>\n",
       "    <tr style=\"text-align: right;\">\n",
       "      <th></th>\n",
       "      <th>Vehicles_class</th>\n",
       "      <th>Engine_Size</th>\n",
       "      <th>Cylinders</th>\n",
       "      <th>Transmission</th>\n",
       "      <th>Fuel_Type</th>\n",
       "      <th>Fuel_Consumption_City</th>\n",
       "      <th>Fuel_Consumption_Hwy</th>\n",
       "      <th>Fuel_Consumption_Comd(mpg)</th>\n",
       "    </tr>\n",
       "  </thead>\n",
       "  <tbody>\n",
       "    <tr>\n",
       "      <th>645</th>\n",
       "      <td>12</td>\n",
       "      <td>3.0</td>\n",
       "      <td>6</td>\n",
       "      <td>9</td>\n",
       "      <td>1</td>\n",
       "      <td>19.4</td>\n",
       "      <td>14.9</td>\n",
       "      <td>16</td>\n",
       "    </tr>\n",
       "    <tr>\n",
       "      <th>939</th>\n",
       "      <td>13</td>\n",
       "      <td>1.0</td>\n",
       "      <td>3</td>\n",
       "      <td>4</td>\n",
       "      <td>2</td>\n",
       "      <td>6.9</td>\n",
       "      <td>5.7</td>\n",
       "      <td>44</td>\n",
       "    </tr>\n",
       "    <tr>\n",
       "      <th>70</th>\n",
       "      <td>10</td>\n",
       "      <td>4.0</td>\n",
       "      <td>8</td>\n",
       "      <td>9</td>\n",
       "      <td>2</td>\n",
       "      <td>16.8</td>\n",
       "      <td>10.3</td>\n",
       "      <td>20</td>\n",
       "    </tr>\n",
       "    <tr>\n",
       "      <th>200</th>\n",
       "      <td>2</td>\n",
       "      <td>1.8</td>\n",
       "      <td>4</td>\n",
       "      <td>18</td>\n",
       "      <td>3</td>\n",
       "      <td>9.5</td>\n",
       "      <td>6.5</td>\n",
       "      <td>34</td>\n",
       "    </tr>\n",
       "    <tr>\n",
       "      <th>470</th>\n",
       "      <td>12</td>\n",
       "      <td>5.3</td>\n",
       "      <td>8</td>\n",
       "      <td>0</td>\n",
       "      <td>1</td>\n",
       "      <td>21.5</td>\n",
       "      <td>14.6</td>\n",
       "      <td>15</td>\n",
       "    </tr>\n",
       "    <tr>\n",
       "      <th>...</th>\n",
       "      <td>...</td>\n",
       "      <td>...</td>\n",
       "      <td>...</td>\n",
       "      <td>...</td>\n",
       "      <td>...</td>\n",
       "      <td>...</td>\n",
       "      <td>...</td>\n",
       "      <td>...</td>\n",
       "    </tr>\n",
       "    <tr>\n",
       "      <th>360</th>\n",
       "      <td>11</td>\n",
       "      <td>2.0</td>\n",
       "      <td>4</td>\n",
       "      <td>7</td>\n",
       "      <td>3</td>\n",
       "      <td>11.2</td>\n",
       "      <td>8.5</td>\n",
       "      <td>28</td>\n",
       "    </tr>\n",
       "    <tr>\n",
       "      <th>466</th>\n",
       "      <td>11</td>\n",
       "      <td>2.4</td>\n",
       "      <td>4</td>\n",
       "      <td>0</td>\n",
       "      <td>3</td>\n",
       "      <td>11.5</td>\n",
       "      <td>8.2</td>\n",
       "      <td>28</td>\n",
       "    </tr>\n",
       "    <tr>\n",
       "      <th>299</th>\n",
       "      <td>2</td>\n",
       "      <td>5.7</td>\n",
       "      <td>8</td>\n",
       "      <td>14</td>\n",
       "      <td>3</td>\n",
       "      <td>15.8</td>\n",
       "      <td>9.2</td>\n",
       "      <td>22</td>\n",
       "    </tr>\n",
       "    <tr>\n",
       "      <th>493</th>\n",
       "      <td>11</td>\n",
       "      <td>2.4</td>\n",
       "      <td>4</td>\n",
       "      <td>14</td>\n",
       "      <td>3</td>\n",
       "      <td>10.6</td>\n",
       "      <td>7.9</td>\n",
       "      <td>30</td>\n",
       "    </tr>\n",
       "    <tr>\n",
       "      <th>527</th>\n",
       "      <td>2</td>\n",
       "      <td>3.7</td>\n",
       "      <td>6</td>\n",
       "      <td>8</td>\n",
       "      <td>2</td>\n",
       "      <td>12.6</td>\n",
       "      <td>8.7</td>\n",
       "      <td>26</td>\n",
       "    </tr>\n",
       "  </tbody>\n",
       "</table>\n",
       "<p>853 rows × 8 columns</p>\n",
       "</div>"
      ],
      "text/plain": [
       "     Vehicles_class  Engine_Size  Cylinders  Transmission  Fuel_Type  \\\n",
       "645              12          3.0          6             9          1   \n",
       "939              13          1.0          3             4          2   \n",
       "70               10          4.0          8             9          2   \n",
       "200               2          1.8          4            18          3   \n",
       "470              12          5.3          8             0          1   \n",
       "..              ...          ...        ...           ...        ...   \n",
       "360              11          2.0          4             7          3   \n",
       "466              11          2.4          4             0          3   \n",
       "299               2          5.7          8            14          3   \n",
       "493              11          2.4          4            14          3   \n",
       "527               2          3.7          6             8          2   \n",
       "\n",
       "     Fuel_Consumption_City  Fuel_Consumption_Hwy  Fuel_Consumption_Comd(mpg)  \n",
       "645                   19.4                  14.9                          16  \n",
       "939                    6.9                   5.7                          44  \n",
       "70                    16.8                  10.3                          20  \n",
       "200                    9.5                   6.5                          34  \n",
       "470                   21.5                  14.6                          15  \n",
       "..                     ...                   ...                         ...  \n",
       "360                   11.2                   8.5                          28  \n",
       "466                   11.5                   8.2                          28  \n",
       "299                   15.8                   9.2                          22  \n",
       "493                   10.6                   7.9                          30  \n",
       "527                   12.6                   8.7                          26  \n",
       "\n",
       "[853 rows x 8 columns]"
      ]
     },
     "execution_count": 67,
     "metadata": {},
     "output_type": "execute_result"
    }
   ],
   "source": [
    "x_train"
   ]
  },
  {
   "cell_type": "code",
   "execution_count": 68,
   "id": "f7a1c11c",
   "metadata": {},
   "outputs": [
    {
     "data": {
      "text/plain": [
       "(214, 1)"
      ]
     },
     "execution_count": 68,
     "metadata": {},
     "output_type": "execute_result"
    }
   ],
   "source": [
    "y_pred=lr.predict(x_test)\n",
    "y_pred.shape"
   ]
  },
  {
   "cell_type": "code",
   "execution_count": 69,
   "id": "9e3e83e1",
   "metadata": {},
   "outputs": [
    {
     "name": "stdout",
     "output_type": "stream",
     "text": [
      "455    292\n",
      "954    288\n",
      "738    301\n",
      "913    286\n",
      "702    170\n",
      "      ... \n",
      "311    235\n",
      "848    251\n",
      "508    258\n",
      "330    276\n",
      "476    354\n",
      "Name: CO2_Emissions, Length: 214, dtype: int64\n"
     ]
    }
   ],
   "source": [
    "y_pred\n",
    "print(y_test['CO2_Emissions'])"
   ]
  },
  {
   "cell_type": "code",
   "execution_count": 70,
   "id": "5a2bb385",
   "metadata": {},
   "outputs": [
    {
     "data": {
      "text/plain": [
       "(214, 1)"
      ]
     },
     "execution_count": 70,
     "metadata": {},
     "output_type": "execute_result"
    }
   ],
   "source": [
    "y_pred.shape"
   ]
  },
  {
   "cell_type": "code",
   "execution_count": 71,
   "id": "2275a42f",
   "metadata": {},
   "outputs": [
    {
     "data": {
      "text/plain": [
       "(214, 1)"
      ]
     },
     "execution_count": 71,
     "metadata": {},
     "output_type": "execute_result"
    }
   ],
   "source": [
    "y_test.shape"
   ]
  },
  {
   "cell_type": "code",
   "execution_count": 72,
   "id": "f39435dd",
   "metadata": {},
   "outputs": [
    {
     "name": "stderr",
     "output_type": "stream",
     "text": [
      "C:\\Users\\saivi\\AppData\\Local\\Temp\\ipykernel_10924\\2720103329.py:4: DataConversionWarning: A column-vector y was passed when a 1d array was expected. Please change the shape of y to (n_samples,), for example using ravel().\n",
      "  randfor.fit(x_train, y_train)\n"
     ]
    },
    {
     "name": "stdout",
     "output_type": "stream",
     "text": [
      "[299 288 301 244 177 168 320 380 347 258 235 198 315 255 340 260 285 196\n",
      " 202 393 209 161 299 168 230 389 258 264 242 221 264 271 260 306 346 244\n",
      " 184 200 209 393 202 310 191 237 265 297 347 299 393 310 269 255 290 196\n",
      " 237 278 237 179 177 278 290 283 281 145 179 136 317 317 193 237 259 269\n",
      " 306 435 239 191 177 382 274 230 269 168 212 175 334 138 197 253 216 414\n",
      " 177 308 356 419 198 336 216 200 237 216 239 184 398 225 315 380 126 274\n",
      " 200 209 230 260 294 297 317 315 380 288 288 235 290 283 239 380 191 362\n",
      " 262 354 138 278 297 409 202 209 251 222 207 196 251 221 251 165 196 207\n",
      " 209 262 191 230 283 347 235 216 232 338 191 278 202 237 380 232 184 198\n",
      " 179 336 209 179 340 225 253 235 274 175 294 359 198 221 138 207 163 207\n",
      " 398 209 285 324 354 197 184 196 246 230 168 278 419 179 292 196 182 251\n",
      " 310 292 253 317 209 285 232 317 177 216 237 237 253 262 276 346]\n"
     ]
    }
   ],
   "source": [
    "from sklearn.ensemble import RandomForestClassifier\n",
    "randfor = RandomForestClassifier(n_estimators=100, random_state=0)\n",
    "\n",
    "randfor.fit(x_train, y_train)\n",
    "\n",
    "y_pred_rf = randfor.predict(x_test)\n",
    "print(y_pred_rf)"
   ]
  },
  {
   "cell_type": "code",
   "execution_count": 73,
   "id": "00c32669",
   "metadata": {},
   "outputs": [
    {
     "name": "stdout",
     "output_type": "stream",
     "text": [
      "MAE:  13.02643223516729\n",
      "MSE: 366.4911334589439\n",
      "RMSE: 19.143958145037402\n"
     ]
    }
   ],
   "source": [
    "from sklearn.metrics import mean_squared_error\n",
    "from sklearn.metrics import mean_absolute_error\n",
    "\n",
    "print(\"MAE: \",mean_absolute_error(y_test,y_pred))\n",
    "print(\"MSE:\",mean_squared_error(y_test,y_pred))\n",
    "print(\"RMSE:\",np.sqrt(mean_squared_error(y_test,y_pred)))"
   ]
  },
  {
   "cell_type": "code",
   "execution_count": 74,
   "id": "e347637b",
   "metadata": {},
   "outputs": [
    {
     "data": {
      "text/plain": [
       "92.08557205135328"
      ]
     },
     "execution_count": 74,
     "metadata": {},
     "output_type": "execute_result"
    }
   ],
   "source": [
    "from sklearn.metrics import r2_score\n",
    "r2_score(y_test,y_pred)*100\n"
   ]
  },
  {
   "cell_type": "code",
   "execution_count": 75,
   "id": "3ed4fcb3",
   "metadata": {},
   "outputs": [
    {
     "data": {
      "text/plain": [
       "98.14231325680696"
      ]
     },
     "execution_count": 75,
     "metadata": {},
     "output_type": "execute_result"
    }
   ],
   "source": [
    "r2_score(y_test,y_pred_rf)*100"
   ]
  },
  {
   "cell_type": "code",
   "execution_count": 76,
   "id": "52d3728a",
   "metadata": {},
   "outputs": [],
   "source": [
    "score_lr=r2_score(y_test,y_pred)\n",
    "score_rf=r2_score(y_test,y_pred_rf)"
   ]
  },
  {
   "cell_type": "code",
   "execution_count": 77,
   "id": "a36ebaab",
   "metadata": {},
   "outputs": [
    {
     "name": "stderr",
     "output_type": "stream",
     "text": [
      "C:\\Users\\saivi\\AppData\\Local\\Packages\\PythonSoftwareFoundation.Python.3.10_qbz5n2kfra8p0\\LocalCache\\local-packages\\Python310\\site-packages\\seaborn\\_decorators.py:36: FutureWarning: Pass the following variables as keyword args: x, y. From version 0.12, the only valid positional argument will be `data`, and passing other arguments without an explicit keyword will result in an error or misinterpretation.\n",
      "  warnings.warn(\n"
     ]
    },
    {
     "data": {
      "text/plain": [
       "<AxesSubplot:xlabel='Algorithms', ylabel='Accuracy score'>"
      ]
     },
     "execution_count": 77,
     "metadata": {},
     "output_type": "execute_result"
    },
    {
     "data": {
      "image/png": "[encoded data removed]",
      "text/plain": [
       "<Figure size 1080x360 with 1 Axes>"
      ]
     },
     "metadata": {},
     "output_type": "display_data"
    }
   ],
   "source": [
    "scores = [score_lr,score_rf]\n",
    "algorithms = [\"Linear Regression\",\"Random Forest\"] \n",
    "sns.set(rc={'figure.figsize':(15,5)})\n",
    "plt.xlabel(\"Algorithms\")\n",
    "plt.ylabel(\"Accuracy score\")\n",
    "\n",
    "sns.barplot(algorithms,scores)"
   ]
  },
  {
   "cell_type": "code",
   "execution_count": 78,
   "id": "b8a95510",
   "metadata": {},
   "outputs": [],
   "source": [
    "pickle.dump(randfor,open('co2.pkl','wb'))"
   ]
  },
  {
   "cell_type": "code",
   "execution_count": null,
   "id": "473a9cb4",
   "metadata": {},
   "outputs": [],
   "source": []
  }
 ],
 "metadata": {
  "kernelspec": {
   "display_name": "Python 3 (ipykernel)",
   "language": "python",
   "name": "python3"
  },
  "language_info": {
   "codemirror_mode": {
    "name": "ipython",
    "version": 3
   },
   "file_extension": ".py",
   "mimetype": "text/x-python",
   "name": "python",
   "nbconvert_exporter": "python",
   "pygments_lexer": "ipython3",
   "version": "3.10.4"
  }
 },
 "nbformat": 4,
 "nbformat_minor": 5
}
